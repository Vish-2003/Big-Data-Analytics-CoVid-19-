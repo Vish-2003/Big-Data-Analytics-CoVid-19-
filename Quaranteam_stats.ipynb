{
  "nbformat": 4,
  "nbformat_minor": 0,
  "metadata": {
    "colab": {
      "name": "Quaranteam_stats.ipynb",
      "provenance": [],
      "collapsed_sections": []
    },
    "kernelspec": {
      "display_name": "Python 3",
      "name": "python3"
    },
    "language_info": {
      "name": "python"
    }
  },
  "cells": [
    {
      "cell_type": "code",
      "metadata": {
        "id": "xAsYEoCFvL-H"
      },
      "source": [
        "import requests\n",
        "import json\n",
        "import csv\n",
        "from datetime import timedelta, date, datetime\n",
        "\n",
        "import numpy as np\n",
        "import pandas as pd\n",
        "from matplotlib import pyplot as plt\n",
        "import seaborn as sns"
      ],
      "execution_count": null,
      "outputs": []
    },
    {
      "cell_type": "code",
      "metadata": {
        "id": "H6VRlKfywlvq"
      },
      "source": [
        "#List of states and union territories with order according to the data we get from our source\n",
        "st_ut = ['title',\n",
        " 'andaman and nicobar islands',\n",
        " 'andhra pradesh',\n",
        " 'arunachal pradesh ',\n",
        " 'assam',\n",
        " 'bihar',\n",
        " 'chhattisgarh',\n",
        " 'chandigarh',\n",
        " 'delhi',\n",
        " 'daman and diu',\n",
        " 'goa',\n",
        " 'gujarat',\n",
        " 'himachal pradesh',\n",
        " 'haryana',\n",
        " 'jharkhand',\n",
        " 'jammu and kashmir',\n",
        " 'karnataka',\n",
        " 'kerala',\n",
        " 'ladakh',\n",
        " 'lakshadweep',\n",
        " 'maharashtra',\n",
        " 'meghalaya',\n",
        " 'manipur',\n",
        " 'madhya pradesh',\n",
        " 'mizoram',\n",
        " 'nagaland',\n",
        " 'odisha',\n",
        " 'punjab',\n",
        " 'puducherry',\n",
        " 'rajasthan',\n",
        " 'sikkim',\n",
        " 'telangana',\n",
        " 'tamil nadu',\n",
        " 'tripura',\n",
        " 'india',\n",
        " #'un',#idk what is this\n",
        " 'uttar pradesh',\n",
        " 'uttarakhand',\n",
        " 'west bengal']\n",
        "for i in range(len(st_ut)):\n",
        "   st_ut[i] = st_ut[i].capitalize()"
      ],
      "execution_count": null,
      "outputs": []
    },
    {
      "cell_type": "code",
      "metadata": {
        "id": "qQWtIAQiwCoU"
      },
      "source": [
        "url2 = 'https://api.covid19india.org/v4/min/timeseries.min.json'#our data source\n",
        "rq2 = requests.get(url2)\n",
        "data2 = rq2.json()\n",
        "del data2['UN'] #There was no documentation as to what it means, so we exclude that data."
      ],
      "execution_count": null,
      "outputs": []
    },
    {
      "cell_type": "code",
      "metadata": {
        "id": "ntKxsgl5MMhP"
      },
      "source": [
        "fromdate = \"2021-01-01\"\n",
        "todate = '2021-06-20'\n",
        "\n",
        "#fromdate = input('Enter from date:(format YYYY-MM-DD): ')\n",
        "#todate = input('Enter to date:(format YYYY-MM-DD): ')\n",
        "#code = input(\"Enter state code (TT for Total/All India): \")\n",
        "start_date = datetime.strptime(fromdate, '%Y-%m-%d')\n",
        "end_date = datetime.strptime(todate, '%Y-%m-%d')"
      ],
      "execution_count": null,
      "outputs": []
    },
    {
      "cell_type": "code",
      "metadata": {
        "id": "APvWBbPzNDCP"
      },
      "source": [
        "def daterange(start_date, end_date):      #function yields a single date in chronological order from the start_date to the end_date\n",
        "    for n in range(int((end_date - start_date).days + 1)):\n",
        "        yield start_date + timedelta(n)"
      ],
      "execution_count": null,
      "outputs": []
    },
    {
      "cell_type": "code",
      "metadata": {
        "id": "uB4CVD1R4Ycd"
      },
      "source": [
        "def make_list(type_of_cases):     #function for getting the required type_of_cases for each state in a specified range of dates(in the form of 2d lists)\n",
        "  final_list = []\n",
        "  for single_date in daterange(start_date, end_date):\n",
        "    tmp_list = []\n",
        "    for state in data2:\n",
        "      try:\n",
        "        tmp_list.append(data2[state]['dates'][str(single_date.date())]['delta'][type_of_cases])\n",
        "      except:\n",
        "        tmp_list.append(0)\n",
        "    final_list.append(tmp_list)\n",
        "  return final_list"
      ],
      "execution_count": null,
      "outputs": []
    },
    {
      "cell_type": "code",
      "metadata": {
        "id": "3QLu2tKHy3WS"
      },
      "source": [
        "confirmed_list = make_list('confirmed')\n",
        "confirmed_cases = pd.DataFrame(confirmed_list, index = pd.date_range(start_date, end_date), columns = st_ut[1:])\n",
        "#Turning the list into a dataframe"
      ],
      "execution_count": null,
      "outputs": []
    },
    {
      "cell_type": "code",
      "metadata": {
        "id": "P8HmS8ugPn2F"
      },
      "source": [
        "recovered_list = make_list('recovered')\n",
        "recovered_cases = pd.DataFrame(recovered_list, index = pd.date_range(start_date, end_date), columns = st_ut[1:])\n",
        "#Turning the list into a dataframe"
      ],
      "execution_count": null,
      "outputs": []
    },
    {
      "cell_type": "code",
      "metadata": {
        "colab": {
          "base_uri": "https://localhost:8080/",
          "height": 368
        },
        "id": "Gm8ABWm6MG29",
        "outputId": "a8416533-6b19-4fde-ad47-808e3317f275"
      },
      "source": [
        "confirmed_cases.describe()    #our required data... notice the discrepencies in our data- especially the min and max values"
      ],
      "execution_count": null,
      "outputs": [
        {
          "output_type": "execute_result",
          "data": {
            "text/html": [
              "<div>\n",
              "<style scoped>\n",
              "    .dataframe tbody tr th:only-of-type {\n",
              "        vertical-align: middle;\n",
              "    }\n",
              "\n",
              "    .dataframe tbody tr th {\n",
              "        vertical-align: top;\n",
              "    }\n",
              "\n",
              "    .dataframe thead th {\n",
              "        text-align: right;\n",
              "    }\n",
              "</style>\n",
              "<table border=\"1\" class=\"dataframe\">\n",
              "  <thead>\n",
              "    <tr style=\"text-align: right;\">\n",
              "      <th></th>\n",
              "      <th>Andaman and nicobar islands</th>\n",
              "      <th>Andhra pradesh</th>\n",
              "      <th>Arunachal pradesh</th>\n",
              "      <th>Assam</th>\n",
              "      <th>Bihar</th>\n",
              "      <th>Chhattisgarh</th>\n",
              "      <th>Chandigarh</th>\n",
              "      <th>Delhi</th>\n",
              "      <th>Daman and diu</th>\n",
              "      <th>Goa</th>\n",
              "      <th>Gujarat</th>\n",
              "      <th>Himachal pradesh</th>\n",
              "      <th>Haryana</th>\n",
              "      <th>Jharkhand</th>\n",
              "      <th>Jammu and kashmir</th>\n",
              "      <th>Karnataka</th>\n",
              "      <th>Kerala</th>\n",
              "      <th>Ladakh</th>\n",
              "      <th>Lakshadweep</th>\n",
              "      <th>Maharashtra</th>\n",
              "      <th>Meghalaya</th>\n",
              "      <th>Manipur</th>\n",
              "      <th>Madhya pradesh</th>\n",
              "      <th>Mizoram</th>\n",
              "      <th>Nagaland</th>\n",
              "      <th>Odisha</th>\n",
              "      <th>Punjab</th>\n",
              "      <th>Puducherry</th>\n",
              "      <th>Rajasthan</th>\n",
              "      <th>Sikkim</th>\n",
              "      <th>Telangana</th>\n",
              "      <th>Tamil nadu</th>\n",
              "      <th>Tripura</th>\n",
              "      <th>India</th>\n",
              "      <th>Uttar pradesh</th>\n",
              "      <th>Uttarakhand</th>\n",
              "      <th>West bengal</th>\n",
              "    </tr>\n",
              "  </thead>\n",
              "  <tbody>\n",
              "    <tr>\n",
              "      <th>count</th>\n",
              "      <td>171.000000</td>\n",
              "      <td>171.000000</td>\n",
              "      <td>171.000000</td>\n",
              "      <td>171.000000</td>\n",
              "      <td>171.000000</td>\n",
              "      <td>171.000000</td>\n",
              "      <td>171.000000</td>\n",
              "      <td>171.000000</td>\n",
              "      <td>171.000000</td>\n",
              "      <td>171.000000</td>\n",
              "      <td>171.000000</td>\n",
              "      <td>171.000000</td>\n",
              "      <td>171.000000</td>\n",
              "      <td>171.000000</td>\n",
              "      <td>171.000000</td>\n",
              "      <td>171.000000</td>\n",
              "      <td>171.000000</td>\n",
              "      <td>171.000000</td>\n",
              "      <td>171.000000</td>\n",
              "      <td>171.000000</td>\n",
              "      <td>171.000000</td>\n",
              "      <td>171.000000</td>\n",
              "      <td>171.000000</td>\n",
              "      <td>171.000000</td>\n",
              "      <td>171.000000</td>\n",
              "      <td>171.000000</td>\n",
              "      <td>171.000000</td>\n",
              "      <td>171.000000</td>\n",
              "      <td>171.000000</td>\n",
              "      <td>171.000000</td>\n",
              "      <td>171.000000</td>\n",
              "      <td>171.000000</td>\n",
              "      <td>171.000000</td>\n",
              "      <td>171.000000</td>\n",
              "      <td>171.000000</td>\n",
              "      <td>171.000000</td>\n",
              "      <td>171.000000</td>\n",
              "    </tr>\n",
              "    <tr>\n",
              "      <th>mean</th>\n",
              "      <td>14.391813</td>\n",
              "      <td>5662.438596</td>\n",
              "      <td>95.684211</td>\n",
              "      <td>1557.274854</td>\n",
              "      <td>2730.421053</td>\n",
              "      <td>243.754386</td>\n",
              "      <td>4158.479532</td>\n",
              "      <td>4718.847953</td>\n",
              "      <td>41.818713</td>\n",
              "      <td>662.982456</td>\n",
              "      <td>3376.000000</td>\n",
              "      <td>848.730994</td>\n",
              "      <td>2953.760234</td>\n",
              "      <td>1341.695906</td>\n",
              "      <td>1115.923977</td>\n",
              "      <td>11034.836257</td>\n",
              "      <td>11979.304094</td>\n",
              "      <td>60.461988</td>\n",
              "      <td>55.222222</td>\n",
              "      <td>23629.643275</td>\n",
              "      <td>186.421053</td>\n",
              "      <td>209.795322</td>\n",
              "      <td>3201.578947</td>\n",
              "      <td>74.497076</td>\n",
              "      <td>72.052632</td>\n",
              "      <td>3203.982456</td>\n",
              "      <td>2489.947368</td>\n",
              "      <td>448.625731</td>\n",
              "      <td>3759.426901</td>\n",
              "      <td>78.403509</td>\n",
              "      <td>1911.391813</td>\n",
              "      <td>9382.941520</td>\n",
              "      <td>168.918129</td>\n",
              "      <td>114901.000000</td>\n",
              "      <td>6546.152047</td>\n",
              "      <td>1448.678363</td>\n",
              "      <td>5436.514620</td>\n",
              "    </tr>\n",
              "    <tr>\n",
              "      <th>std</th>\n",
              "      <td>18.186412</td>\n",
              "      <td>7508.781657</td>\n",
              "      <td>139.183902</td>\n",
              "      <td>2128.067334</td>\n",
              "      <td>4405.517814</td>\n",
              "      <td>268.852526</td>\n",
              "      <td>5410.508699</td>\n",
              "      <td>7975.181946</td>\n",
              "      <td>71.085838</td>\n",
              "      <td>942.952263</td>\n",
              "      <td>4485.799719</td>\n",
              "      <td>1236.497115</td>\n",
              "      <td>4455.217678</td>\n",
              "      <td>2056.949180</td>\n",
              "      <td>1447.431169</td>\n",
              "      <td>14512.891918</td>\n",
              "      <td>11750.479085</td>\n",
              "      <td>74.978056</td>\n",
              "      <td>75.158795</td>\n",
              "      <td>21985.216598</td>\n",
              "      <td>273.226276</td>\n",
              "      <td>297.481861</td>\n",
              "      <td>4362.775999</td>\n",
              "      <td>103.093640</td>\n",
              "      <td>103.145315</td>\n",
              "      <td>4135.949033</td>\n",
              "      <td>2556.745434</td>\n",
              "      <td>580.808696</td>\n",
              "      <td>5857.142488</td>\n",
              "      <td>110.900569</td>\n",
              "      <td>2376.910180</td>\n",
              "      <td>11619.906233</td>\n",
              "      <td>263.643151</td>\n",
              "      <td>127129.544724</td>\n",
              "      <td>10914.377824</td>\n",
              "      <td>2241.523780</td>\n",
              "      <td>7040.081218</td>\n",
              "    </tr>\n",
              "    <tr>\n",
              "      <th>min</th>\n",
              "      <td>0.000000</td>\n",
              "      <td>30.000000</td>\n",
              "      <td>0.000000</td>\n",
              "      <td>3.000000</td>\n",
              "      <td>21.000000</td>\n",
              "      <td>0.000000</td>\n",
              "      <td>141.000000</td>\n",
              "      <td>94.000000</td>\n",
              "      <td>0.000000</td>\n",
              "      <td>29.000000</td>\n",
              "      <td>185.000000</td>\n",
              "      <td>12.000000</td>\n",
              "      <td>67.000000</td>\n",
              "      <td>31.000000</td>\n",
              "      <td>43.000000</td>\n",
              "      <td>317.000000</td>\n",
              "      <td>1054.000000</td>\n",
              "      <td>0.000000</td>\n",
              "      <td>0.000000</td>\n",
              "      <td>652.000000</td>\n",
              "      <td>0.000000</td>\n",
              "      <td>0.000000</td>\n",
              "      <td>87.000000</td>\n",
              "      <td>0.000000</td>\n",
              "      <td>0.000000</td>\n",
              "      <td>53.000000</td>\n",
              "      <td>124.000000</td>\n",
              "      <td>8.000000</td>\n",
              "      <td>60.000000</td>\n",
              "      <td>0.000000</td>\n",
              "      <td>0.000000</td>\n",
              "      <td>438.000000</td>\n",
              "      <td>0.000000</td>\n",
              "      <td>8579.000000</td>\n",
              "      <td>0.000000</td>\n",
              "      <td>-374.000000</td>\n",
              "      <td>119.000000</td>\n",
              "    </tr>\n",
              "    <tr>\n",
              "      <th>25%</th>\n",
              "      <td>1.000000</td>\n",
              "      <td>122.500000</td>\n",
              "      <td>0.000000</td>\n",
              "      <td>21.000000</td>\n",
              "      <td>88.000000</td>\n",
              "      <td>40.000000</td>\n",
              "      <td>377.500000</td>\n",
              "      <td>218.500000</td>\n",
              "      <td>0.000000</td>\n",
              "      <td>69.500000</td>\n",
              "      <td>439.000000</td>\n",
              "      <td>64.000000</td>\n",
              "      <td>168.500000</td>\n",
              "      <td>62.000000</td>\n",
              "      <td>87.500000</td>\n",
              "      <td>560.500000</td>\n",
              "      <td>3410.000000</td>\n",
              "      <td>3.500000</td>\n",
              "      <td>3.500000</td>\n",
              "      <td>3711.000000</td>\n",
              "      <td>3.000000</td>\n",
              "      <td>7.000000</td>\n",
              "      <td>304.000000</td>\n",
              "      <td>2.000000</td>\n",
              "      <td>1.000000</td>\n",
              "      <td>94.500000</td>\n",
              "      <td>264.000000</td>\n",
              "      <td>28.000000</td>\n",
              "      <td>179.000000</td>\n",
              "      <td>2.000000</td>\n",
              "      <td>189.000000</td>\n",
              "      <td>553.500000</td>\n",
              "      <td>1.000000</td>\n",
              "      <td>15483.500000</td>\n",
              "      <td>194.500000</td>\n",
              "      <td>67.500000</td>\n",
              "      <td>257.000000</td>\n",
              "    </tr>\n",
              "    <tr>\n",
              "      <th>50%</th>\n",
              "      <td>4.000000</td>\n",
              "      <td>984.000000</td>\n",
              "      <td>3.000000</td>\n",
              "      <td>52.000000</td>\n",
              "      <td>351.000000</td>\n",
              "      <td>108.000000</td>\n",
              "      <td>1034.000000</td>\n",
              "      <td>444.000000</td>\n",
              "      <td>7.000000</td>\n",
              "      <td>140.000000</td>\n",
              "      <td>778.000000</td>\n",
              "      <td>239.000000</td>\n",
              "      <td>528.000000</td>\n",
              "      <td>184.000000</td>\n",
              "      <td>256.000000</td>\n",
              "      <td>2792.000000</td>\n",
              "      <td>5980.000000</td>\n",
              "      <td>17.000000</td>\n",
              "      <td>15.000000</td>\n",
              "      <td>14123.000000</td>\n",
              "      <td>20.000000</td>\n",
              "      <td>18.000000</td>\n",
              "      <td>735.000000</td>\n",
              "      <td>7.000000</td>\n",
              "      <td>7.000000</td>\n",
              "      <td>245.000000</td>\n",
              "      <td>1463.000000</td>\n",
              "      <td>125.000000</td>\n",
              "      <td>475.000000</td>\n",
              "      <td>8.000000</td>\n",
              "      <td>493.000000</td>\n",
              "      <td>2089.000000</td>\n",
              "      <td>7.000000</td>\n",
              "      <td>56152.000000</td>\n",
              "      <td>682.000000</td>\n",
              "      <td>263.000000</td>\n",
              "      <td>896.000000</td>\n",
              "    </tr>\n",
              "    <tr>\n",
              "      <th>75%</th>\n",
              "      <td>26.500000</td>\n",
              "      <td>10127.000000</td>\n",
              "      <td>205.000000</td>\n",
              "      <td>3434.000000</td>\n",
              "      <td>3387.500000</td>\n",
              "      <td>397.500000</td>\n",
              "      <td>6464.000000</td>\n",
              "      <td>4257.500000</td>\n",
              "      <td>38.500000</td>\n",
              "      <td>915.000000</td>\n",
              "      <td>4228.000000</td>\n",
              "      <td>1061.500000</td>\n",
              "      <td>3598.500000</td>\n",
              "      <td>1909.500000</td>\n",
              "      <td>1762.000000</td>\n",
              "      <td>17906.500000</td>\n",
              "      <td>18555.000000</td>\n",
              "      <td>115.000000</td>\n",
              "      <td>100.000000</td>\n",
              "      <td>40168.500000</td>\n",
              "      <td>361.000000</td>\n",
              "      <td>437.500000</td>\n",
              "      <td>4354.000000</td>\n",
              "      <td>145.500000</td>\n",
              "      <td>116.500000</td>\n",
              "      <td>6189.500000</td>\n",
              "      <td>3780.000000</td>\n",
              "      <td>713.500000</td>\n",
              "      <td>4759.500000</td>\n",
              "      <td>149.500000</td>\n",
              "      <td>3119.500000</td>\n",
              "      <td>16739.000000</td>\n",
              "      <td>285.500000</td>\n",
              "      <td>190966.000000</td>\n",
              "      <td>6933.500000</td>\n",
              "      <td>2012.000000</td>\n",
              "      <td>9173.500000</td>\n",
              "    </tr>\n",
              "    <tr>\n",
              "      <th>max</th>\n",
              "      <td>97.000000</td>\n",
              "      <td>24171.000000</td>\n",
              "      <td>497.000000</td>\n",
              "      <td>6573.000000</td>\n",
              "      <td>15853.000000</td>\n",
              "      <td>895.000000</td>\n",
              "      <td>17397.000000</td>\n",
              "      <td>28395.000000</td>\n",
              "      <td>359.000000</td>\n",
              "      <td>4195.000000</td>\n",
              "      <td>14605.000000</td>\n",
              "      <td>5424.000000</td>\n",
              "      <td>15786.000000</td>\n",
              "      <td>8075.000000</td>\n",
              "      <td>5443.000000</td>\n",
              "      <td>50112.000000</td>\n",
              "      <td>43529.000000</td>\n",
              "      <td>362.000000</td>\n",
              "      <td>345.000000</td>\n",
              "      <td>68631.000000</td>\n",
              "      <td>1183.000000</td>\n",
              "      <td>1032.000000</td>\n",
              "      <td>13601.000000</td>\n",
              "      <td>345.000000</td>\n",
              "      <td>366.000000</td>\n",
              "      <td>12852.000000</td>\n",
              "      <td>9042.000000</td>\n",
              "      <td>2049.000000</td>\n",
              "      <td>18298.000000</td>\n",
              "      <td>420.000000</td>\n",
              "      <td>11451.000000</td>\n",
              "      <td>36184.000000</td>\n",
              "      <td>879.000000</td>\n",
              "      <td>414280.000000</td>\n",
              "      <td>37944.000000</td>\n",
              "      <td>9642.000000</td>\n",
              "      <td>20846.000000</td>\n",
              "    </tr>\n",
              "  </tbody>\n",
              "</table>\n",
              "</div>"
            ],
            "text/plain": [
              "       Andaman and nicobar islands  Andhra pradesh  ...  Uttarakhand   West bengal\n",
              "count                   171.000000      171.000000  ...   171.000000    171.000000\n",
              "mean                     14.391813     5662.438596  ...  1448.678363   5436.514620\n",
              "std                      18.186412     7508.781657  ...  2241.523780   7040.081218\n",
              "min                       0.000000       30.000000  ...  -374.000000    119.000000\n",
              "25%                       1.000000      122.500000  ...    67.500000    257.000000\n",
              "50%                       4.000000      984.000000  ...   263.000000    896.000000\n",
              "75%                      26.500000    10127.000000  ...  2012.000000   9173.500000\n",
              "max                      97.000000    24171.000000  ...  9642.000000  20846.000000\n",
              "\n",
              "[8 rows x 37 columns]"
            ]
          },
          "metadata": {
            "tags": []
          },
          "execution_count": 69
        }
      ]
    },
    {
      "cell_type": "code",
      "metadata": {
        "colab": {
          "base_uri": "https://localhost:8080/",
          "height": 368
        },
        "id": "IB4gU4v9MK2P",
        "outputId": "1f03406b-1366-43b1-dd7f-2d63ba4795d8"
      },
      "source": [
        "recovered_cases.describe()      #our required data... notice the discrepencies in our data- especially the min and max values"
      ],
      "execution_count": null,
      "outputs": [
        {
          "output_type": "execute_result",
          "data": {
            "text/html": [
              "<div>\n",
              "<style scoped>\n",
              "    .dataframe tbody tr th:only-of-type {\n",
              "        vertical-align: middle;\n",
              "    }\n",
              "\n",
              "    .dataframe tbody tr th {\n",
              "        vertical-align: top;\n",
              "    }\n",
              "\n",
              "    .dataframe thead th {\n",
              "        text-align: right;\n",
              "    }\n",
              "</style>\n",
              "<table border=\"1\" class=\"dataframe\">\n",
              "  <thead>\n",
              "    <tr style=\"text-align: right;\">\n",
              "      <th></th>\n",
              "      <th>Andaman and nicobar islands</th>\n",
              "      <th>Andhra pradesh</th>\n",
              "      <th>Arunachal pradesh</th>\n",
              "      <th>Assam</th>\n",
              "      <th>Bihar</th>\n",
              "      <th>Chhattisgarh</th>\n",
              "      <th>Chandigarh</th>\n",
              "      <th>Delhi</th>\n",
              "      <th>Daman and diu</th>\n",
              "      <th>Goa</th>\n",
              "      <th>Gujarat</th>\n",
              "      <th>Himachal pradesh</th>\n",
              "      <th>Haryana</th>\n",
              "      <th>Jharkhand</th>\n",
              "      <th>Jammu and kashmir</th>\n",
              "      <th>Karnataka</th>\n",
              "      <th>Kerala</th>\n",
              "      <th>Ladakh</th>\n",
              "      <th>Lakshadweep</th>\n",
              "      <th>Maharashtra</th>\n",
              "      <th>Meghalaya</th>\n",
              "      <th>Manipur</th>\n",
              "      <th>Madhya pradesh</th>\n",
              "      <th>Mizoram</th>\n",
              "      <th>Nagaland</th>\n",
              "      <th>Odisha</th>\n",
              "      <th>Punjab</th>\n",
              "      <th>Puducherry</th>\n",
              "      <th>Rajasthan</th>\n",
              "      <th>Sikkim</th>\n",
              "      <th>Telangana</th>\n",
              "      <th>Tamil nadu</th>\n",
              "      <th>Tripura</th>\n",
              "      <th>India</th>\n",
              "      <th>Uttar pradesh</th>\n",
              "      <th>Uttarakhand</th>\n",
              "      <th>West bengal</th>\n",
              "    </tr>\n",
              "  </thead>\n",
              "  <tbody>\n",
              "    <tr>\n",
              "      <th>count</th>\n",
              "      <td>171.000000</td>\n",
              "      <td>171.000000</td>\n",
              "      <td>171.000000</td>\n",
              "      <td>171.000000</td>\n",
              "      <td>171.000000</td>\n",
              "      <td>171.000000</td>\n",
              "      <td>171.000000</td>\n",
              "      <td>171.000000</td>\n",
              "      <td>171.000000</td>\n",
              "      <td>171.00000</td>\n",
              "      <td>171.000000</td>\n",
              "      <td>171.000000</td>\n",
              "      <td>171.000000</td>\n",
              "      <td>171.000000</td>\n",
              "      <td>171.000000</td>\n",
              "      <td>171.000000</td>\n",
              "      <td>171.000000</td>\n",
              "      <td>171.000000</td>\n",
              "      <td>171.000000</td>\n",
              "      <td>171.000000</td>\n",
              "      <td>171.000000</td>\n",
              "      <td>171.000000</td>\n",
              "      <td>171.000000</td>\n",
              "      <td>171.000000</td>\n",
              "      <td>171.000000</td>\n",
              "      <td>171.000000</td>\n",
              "      <td>171.000000</td>\n",
              "      <td>171.000000</td>\n",
              "      <td>171.000000</td>\n",
              "      <td>171.000000</td>\n",
              "      <td>171.000000</td>\n",
              "      <td>171.000000</td>\n",
              "      <td>171.000000</td>\n",
              "      <td>171.000000</td>\n",
              "      <td>171.000000</td>\n",
              "      <td>171.000000</td>\n",
              "      <td>171.000000</td>\n",
              "    </tr>\n",
              "    <tr>\n",
              "      <th>mean</th>\n",
              "      <td>13.748538</td>\n",
              "      <td>5282.222222</td>\n",
              "      <td>80.953216</td>\n",
              "      <td>1361.614035</td>\n",
              "      <td>2691.637427</td>\n",
              "      <td>241.087719</td>\n",
              "      <td>4113.023392</td>\n",
              "      <td>4654.766082</td>\n",
              "      <td>41.491228</td>\n",
              "      <td>636.19883</td>\n",
              "      <td>3363.742690</td>\n",
              "      <td>833.666667</td>\n",
              "      <td>2922.970760</td>\n",
              "      <td>1318.269006</td>\n",
              "      <td>1069.192982</td>\n",
              "      <td>10231.690058</td>\n",
              "      <td>11687.005848</td>\n",
              "      <td>59.397661</td>\n",
              "      <td>52.877193</td>\n",
              "      <td>22753.865497</td>\n",
              "      <td>156.923977</td>\n",
              "      <td>156.298246</td>\n",
              "      <td>3213.152047</td>\n",
              "      <td>54.339181</td>\n",
              "      <td>56.649123</td>\n",
              "      <td>3010.421053</td>\n",
              "      <td>2406.783626</td>\n",
              "      <td>423.666667</td>\n",
              "      <td>3761.076023</td>\n",
              "      <td>63.842105</td>\n",
              "      <td>1830.590643</td>\n",
              "      <td>8915.421053</td>\n",
              "      <td>142.087719</td>\n",
              "      <td>110848.064327</td>\n",
              "      <td>6521.356725</td>\n",
              "      <td>1398.684211</td>\n",
              "      <td>5327.350877</td>\n",
              "    </tr>\n",
              "    <tr>\n",
              "      <th>std</th>\n",
              "      <td>17.021818</td>\n",
              "      <td>7437.372562</td>\n",
              "      <td>131.047715</td>\n",
              "      <td>1992.591240</td>\n",
              "      <td>4394.107237</td>\n",
              "      <td>269.987513</td>\n",
              "      <td>5274.554881</td>\n",
              "      <td>7416.823694</td>\n",
              "      <td>71.503630</td>\n",
              "      <td>940.69279</td>\n",
              "      <td>4310.503393</td>\n",
              "      <td>1205.443589</td>\n",
              "      <td>4519.441429</td>\n",
              "      <td>2051.678431</td>\n",
              "      <td>1410.836829</td>\n",
              "      <td>14865.170791</td>\n",
              "      <td>13277.273573</td>\n",
              "      <td>73.075101</td>\n",
              "      <td>79.515534</td>\n",
              "      <td>22235.294911</td>\n",
              "      <td>254.222969</td>\n",
              "      <td>253.147107</td>\n",
              "      <td>4158.767580</td>\n",
              "      <td>82.708145</td>\n",
              "      <td>113.681261</td>\n",
              "      <td>4117.539115</td>\n",
              "      <td>2503.162667</td>\n",
              "      <td>576.761058</td>\n",
              "      <td>6038.723099</td>\n",
              "      <td>101.234403</td>\n",
              "      <td>2498.330790</td>\n",
              "      <td>11359.292132</td>\n",
              "      <td>266.791301</td>\n",
              "      <td>124363.392391</td>\n",
              "      <td>10875.402669</td>\n",
              "      <td>2135.693896</td>\n",
              "      <td>7292.532034</td>\n",
              "    </tr>\n",
              "    <tr>\n",
              "      <th>min</th>\n",
              "      <td>0.000000</td>\n",
              "      <td>51.000000</td>\n",
              "      <td>0.000000</td>\n",
              "      <td>11.000000</td>\n",
              "      <td>-2837.000000</td>\n",
              "      <td>0.000000</td>\n",
              "      <td>120.000000</td>\n",
              "      <td>75.000000</td>\n",
              "      <td>0.000000</td>\n",
              "      <td>33.00000</td>\n",
              "      <td>264.000000</td>\n",
              "      <td>14.000000</td>\n",
              "      <td>57.000000</td>\n",
              "      <td>28.000000</td>\n",
              "      <td>32.000000</td>\n",
              "      <td>287.000000</td>\n",
              "      <td>1660.000000</td>\n",
              "      <td>0.000000</td>\n",
              "      <td>0.000000</td>\n",
              "      <td>1355.000000</td>\n",
              "      <td>0.000000</td>\n",
              "      <td>0.000000</td>\n",
              "      <td>175.000000</td>\n",
              "      <td>0.000000</td>\n",
              "      <td>0.000000</td>\n",
              "      <td>52.000000</td>\n",
              "      <td>146.000000</td>\n",
              "      <td>9.000000</td>\n",
              "      <td>51.000000</td>\n",
              "      <td>0.000000</td>\n",
              "      <td>0.000000</td>\n",
              "      <td>453.000000</td>\n",
              "      <td>0.000000</td>\n",
              "      <td>9500.000000</td>\n",
              "      <td>0.000000</td>\n",
              "      <td>-265.000000</td>\n",
              "      <td>198.000000</td>\n",
              "    </tr>\n",
              "    <tr>\n",
              "      <th>25%</th>\n",
              "      <td>1.000000</td>\n",
              "      <td>131.500000</td>\n",
              "      <td>0.000000</td>\n",
              "      <td>23.000000</td>\n",
              "      <td>85.000000</td>\n",
              "      <td>34.000000</td>\n",
              "      <td>380.000000</td>\n",
              "      <td>258.500000</td>\n",
              "      <td>0.000000</td>\n",
              "      <td>62.50000</td>\n",
              "      <td>511.500000</td>\n",
              "      <td>59.500000</td>\n",
              "      <td>176.000000</td>\n",
              "      <td>61.500000</td>\n",
              "      <td>83.500000</td>\n",
              "      <td>543.500000</td>\n",
              "      <td>3836.000000</td>\n",
              "      <td>4.000000</td>\n",
              "      <td>2.000000</td>\n",
              "      <td>3748.500000</td>\n",
              "      <td>3.500000</td>\n",
              "      <td>5.000000</td>\n",
              "      <td>353.500000</td>\n",
              "      <td>2.000000</td>\n",
              "      <td>1.000000</td>\n",
              "      <td>91.500000</td>\n",
              "      <td>263.500000</td>\n",
              "      <td>26.000000</td>\n",
              "      <td>182.000000</td>\n",
              "      <td>2.500000</td>\n",
              "      <td>195.000000</td>\n",
              "      <td>545.500000</td>\n",
              "      <td>1.000000</td>\n",
              "      <td>15988.000000</td>\n",
              "      <td>251.000000</td>\n",
              "      <td>78.500000</td>\n",
              "      <td>295.500000</td>\n",
              "    </tr>\n",
              "    <tr>\n",
              "      <th>50%</th>\n",
              "      <td>4.000000</td>\n",
              "      <td>377.000000</td>\n",
              "      <td>3.000000</td>\n",
              "      <td>70.000000</td>\n",
              "      <td>391.000000</td>\n",
              "      <td>84.000000</td>\n",
              "      <td>1152.000000</td>\n",
              "      <td>602.000000</td>\n",
              "      <td>5.000000</td>\n",
              "      <td>104.00000</td>\n",
              "      <td>1006.000000</td>\n",
              "      <td>226.000000</td>\n",
              "      <td>519.000000</td>\n",
              "      <td>173.000000</td>\n",
              "      <td>230.000000</td>\n",
              "      <td>1283.000000</td>\n",
              "      <td>5332.000000</td>\n",
              "      <td>14.000000</td>\n",
              "      <td>14.000000</td>\n",
              "      <td>13165.000000</td>\n",
              "      <td>13.000000</td>\n",
              "      <td>23.000000</td>\n",
              "      <td>857.000000</td>\n",
              "      <td>5.000000</td>\n",
              "      <td>6.000000</td>\n",
              "      <td>244.000000</td>\n",
              "      <td>1426.000000</td>\n",
              "      <td>47.000000</td>\n",
              "      <td>562.000000</td>\n",
              "      <td>9.000000</td>\n",
              "      <td>394.000000</td>\n",
              "      <td>1241.000000</td>\n",
              "      <td>7.000000</td>\n",
              "      <td>32269.000000</td>\n",
              "      <td>789.000000</td>\n",
              "      <td>272.000000</td>\n",
              "      <td>879.000000</td>\n",
              "    </tr>\n",
              "    <tr>\n",
              "      <th>75%</th>\n",
              "      <td>25.000000</td>\n",
              "      <td>10397.500000</td>\n",
              "      <td>139.000000</td>\n",
              "      <td>3062.000000</td>\n",
              "      <td>3148.000000</td>\n",
              "      <td>427.000000</td>\n",
              "      <td>6435.000000</td>\n",
              "      <td>5158.000000</td>\n",
              "      <td>46.500000</td>\n",
              "      <td>783.50000</td>\n",
              "      <td>4259.000000</td>\n",
              "      <td>1128.500000</td>\n",
              "      <td>3411.500000</td>\n",
              "      <td>1685.500000</td>\n",
              "      <td>1815.500000</td>\n",
              "      <td>16817.000000</td>\n",
              "      <td>17678.000000</td>\n",
              "      <td>121.000000</td>\n",
              "      <td>91.000000</td>\n",
              "      <td>37603.500000</td>\n",
              "      <td>198.000000</td>\n",
              "      <td>165.000000</td>\n",
              "      <td>4905.000000</td>\n",
              "      <td>100.500000</td>\n",
              "      <td>50.000000</td>\n",
              "      <td>6370.000000</td>\n",
              "      <td>3638.000000</td>\n",
              "      <td>688.000000</td>\n",
              "      <td>4112.000000</td>\n",
              "      <td>91.000000</td>\n",
              "      <td>3047.500000</td>\n",
              "      <td>19397.500000</td>\n",
              "      <td>126.500000</td>\n",
              "      <td>195040.000000</td>\n",
              "      <td>6854.000000</td>\n",
              "      <td>1837.500000</td>\n",
              "      <td>10588.000000</td>\n",
              "    </tr>\n",
              "    <tr>\n",
              "      <th>max</th>\n",
              "      <td>72.000000</td>\n",
              "      <td>24819.000000</td>\n",
              "      <td>513.000000</td>\n",
              "      <td>6266.000000</td>\n",
              "      <td>15800.000000</td>\n",
              "      <td>963.000000</td>\n",
              "      <td>18746.000000</td>\n",
              "      <td>27421.000000</td>\n",
              "      <td>339.000000</td>\n",
              "      <td>4008.00000</td>\n",
              "      <td>15365.000000</td>\n",
              "      <td>5021.000000</td>\n",
              "      <td>16192.000000</td>\n",
              "      <td>8331.000000</td>\n",
              "      <td>4956.000000</td>\n",
              "      <td>61766.000000</td>\n",
              "      <td>99651.000000</td>\n",
              "      <td>315.000000</td>\n",
              "      <td>483.000000</td>\n",
              "      <td>82266.000000</td>\n",
              "      <td>977.000000</td>\n",
              "      <td>1247.000000</td>\n",
              "      <td>14562.000000</td>\n",
              "      <td>335.000000</td>\n",
              "      <td>965.000000</td>\n",
              "      <td>12077.000000</td>\n",
              "      <td>9059.000000</td>\n",
              "      <td>2017.000000</td>\n",
              "      <td>29459.000000</td>\n",
              "      <td>420.000000</td>\n",
              "      <td>17183.000000</td>\n",
              "      <td>33646.000000</td>\n",
              "      <td>1066.000000</td>\n",
              "      <td>422391.000000</td>\n",
              "      <td>40852.000000</td>\n",
              "      <td>8731.000000</td>\n",
              "      <td>19670.000000</td>\n",
              "    </tr>\n",
              "  </tbody>\n",
              "</table>\n",
              "</div>"
            ],
            "text/plain": [
              "       Andaman and nicobar islands  Andhra pradesh  ...  Uttarakhand   West bengal\n",
              "count                   171.000000      171.000000  ...   171.000000    171.000000\n",
              "mean                     13.748538     5282.222222  ...  1398.684211   5327.350877\n",
              "std                      17.021818     7437.372562  ...  2135.693896   7292.532034\n",
              "min                       0.000000       51.000000  ...  -265.000000    198.000000\n",
              "25%                       1.000000      131.500000  ...    78.500000    295.500000\n",
              "50%                       4.000000      377.000000  ...   272.000000    879.000000\n",
              "75%                      25.000000    10397.500000  ...  1837.500000  10588.000000\n",
              "max                      72.000000    24819.000000  ...  8731.000000  19670.000000\n",
              "\n",
              "[8 rows x 37 columns]"
            ]
          },
          "metadata": {
            "tags": []
          },
          "execution_count": 70
        }
      ]
    },
    {
      "cell_type": "code",
      "metadata": {
        "colab": {
          "base_uri": "https://localhost:8080/",
          "height": 279
        },
        "id": "OmgGtZMsZm1C",
        "outputId": "90519ed4-2ef3-491b-8059-232b69f3ea20"
      },
      "source": [
        "confirmed_cases['India'].plot();    #initial plotting"
      ],
      "execution_count": null,
      "outputs": [
        {
          "output_type": "display_data",
          "data": {
            "image/png": "[encoded data removed]",
            "text/plain": [
              "<Figure size 432x288 with 1 Axes>"
            ]
          },
          "metadata": {
            "tags": []
          }
        }
      ]
    },
    {
      "cell_type": "code",
      "metadata": {
        "colab": {
          "base_uri": "https://localhost:8080/",
          "height": 279
        },
        "id": "4z9qOrAznRIn",
        "outputId": "eb1405b6-6e5a-4330-ab11-3faa396f583f"
      },
      "source": [
        "recovered_cases['Kerala'].plot();"
      ],
      "execution_count": null,
      "outputs": [
        {
          "output_type": "display_data",
          "data": {
            "image/png": "[encoded data removed]",
            "text/plain": [
              "<Figure size 432x288 with 1 Axes>"
            ]
          },
          "metadata": {
            "tags": []
          }
        }
      ]
    },
    {
      "cell_type": "markdown",
      "metadata": {
        "id": "r-jw7JLIg7dU"
      },
      "source": [
        "That peak seems to be an unrealistic value. We will exclude such an outlier."
      ]
    },
    {
      "cell_type": "code",
      "metadata": {
        "id": "Ew6ZeBcPoIoR"
      },
      "source": [
        "recovered_cases['Kerala'][recovered_cases['Kerala'] > 99000] = np.nan"
      ],
      "execution_count": null,
      "outputs": []
    },
    {
      "cell_type": "code",
      "metadata": {
        "colab": {
          "base_uri": "https://localhost:8080/",
          "height": 281
        },
        "id": "xOwH4QTMaBei",
        "outputId": "91eb6c37-bbe1-4ce6-a5fc-372efa44e92b"
      },
      "source": [
        "confirmed_cases['Uttarakhand'].plot();"
      ],
      "execution_count": null,
      "outputs": [
        {
          "output_type": "display_data",
          "data": {
            "image/png": "[encoded data removed]",
            "text/plain": [
              "<Figure size 432x288 with 1 Axes>"
            ]
          },
          "metadata": {
            "tags": []
          }
        }
      ]
    },
    {
      "cell_type": "markdown",
      "metadata": {
        "id": "mggoW96JHEPJ"
      },
      "source": [
        "We find that there is an error in the data since the number of new cases can never be negative and therefore we cannot except that value.\n"
      ]
    },
    {
      "cell_type": "code",
      "metadata": {
        "colab": {
          "base_uri": "https://localhost:8080/"
        },
        "id": "5DJm7y8OLiXJ",
        "outputId": "39db820c-8ef7-4c20-bdad-19700c1acdb9"
      },
      "source": [
        "confirmed_cases[confirmed_cases['Uttarakhand']<0].index"
      ],
      "execution_count": null,
      "outputs": [
        {
          "output_type": "execute_result",
          "data": {
            "text/plain": [
              "DatetimeIndex(['2021-02-20'], dtype='datetime64[ns]', freq='D')"
            ]
          },
          "metadata": {
            "tags": []
          },
          "execution_count": 75
        }
      ]
    },
    {
      "cell_type": "code",
      "metadata": {
        "colab": {
          "base_uri": "https://localhost:8080/"
        },
        "id": "4WbC6gzRLz6K",
        "outputId": "63466d04-7fe1-4245-c7e6-31e357b1e865"
      },
      "source": [
        "confirmed_cases['Uttarakhand'][pd.date_range('2021-02-10','2021-02-28')]"
      ],
      "execution_count": null,
      "outputs": [
        {
          "output_type": "execute_result",
          "data": {
            "text/plain": [
              "2021-02-10     35\n",
              "2021-02-11     48\n",
              "2021-02-12     49\n",
              "2021-02-13     44\n",
              "2021-02-14     54\n",
              "2021-02-15     47\n",
              "2021-02-16     53\n",
              "2021-02-17     44\n",
              "2021-02-18     41\n",
              "2021-02-19     26\n",
              "2021-02-20   -374\n",
              "2021-02-21     30\n",
              "2021-02-22     32\n",
              "2021-02-23     54\n",
              "2021-02-24     47\n",
              "2021-02-25     17\n",
              "2021-02-26     53\n",
              "2021-02-27     59\n",
              "2021-02-28     43\n",
              "Freq: D, Name: Uttarakhand, dtype: int64"
            ]
          },
          "metadata": {
            "tags": []
          },
          "execution_count": 76
        }
      ]
    },
    {
      "cell_type": "markdown",
      "metadata": {
        "id": "ijzeKHLbecmA"
      },
      "source": [
        "Clearly this seems to be a mistake. We will exclude all such values."
      ]
    },
    {
      "cell_type": "code",
      "metadata": {
        "id": "DWbYk6Cjlux2"
      },
      "source": [
        "confirmed_cases[confirmed_cases<0] = np.nan   #excluding negative values\n",
        "recovered_cases[recovered_cases<0] = np.nan"
      ],
      "execution_count": null,
      "outputs": []
    },
    {
      "cell_type": "code",
      "metadata": {
        "id": "PchiMRx-u0n-"
      },
      "source": [
        "confirmed_cases.to_csv('/content/confirmed_cases.csv', index = True)      #saving our data in a csv file\n",
        "recovered_cases.to_csv('/content/recovered_cases.csv', index = True)"
      ],
      "execution_count": null,
      "outputs": []
    },
    {
      "cell_type": "code",
      "metadata": {
        "colab": {
          "base_uri": "https://localhost:8080/",
          "height": 279
        },
        "id": "FH2euNK9Ces8",
        "outputId": "834030b5-28da-4912-bd9e-bbcc0f6786ad"
      },
      "source": [
        "confirmed_cases['Sikkim'].plot();"
      ],
      "execution_count": null,
      "outputs": [
        {
          "output_type": "display_data",
          "data": {
            "image/png": "[encoded data removed]",
            "text/plain": [
              "<Figure size 432x288 with 1 Axes>"
            ]
          },
          "metadata": {
            "tags": []
          }
        }
      ]
    },
    {
      "cell_type": "markdown",
      "metadata": {
        "id": "rrFXq7IAjABx"
      },
      "source": [
        "States with lesser number of cases seem to have more jaggered/unstable curves. We will make a detailed study of the states with most number of cases."
      ]
    },
    {
      "cell_type": "code",
      "metadata": {
        "colab": {
          "base_uri": "https://localhost:8080/"
        },
        "id": "hUOBFQiR_tyt",
        "outputId": "259d93d3-3eda-4ca9-d683-b0ef5648699b"
      },
      "source": [
        "confirmed_cases.mean().sort_values(ascending = False)[:6]"
      ],
      "execution_count": null,
      "outputs": [
        {
          "output_type": "execute_result",
          "data": {
            "text/plain": [
              "India            114901.000000\n",
              "Maharashtra       23629.643275\n",
              "Kerala            11979.304094\n",
              "Karnataka         11034.836257\n",
              "Tamil nadu         9382.941520\n",
              "Uttar pradesh      6546.152047\n",
              "dtype: float64"
            ]
          },
          "metadata": {
            "tags": []
          },
          "execution_count": 82
        }
      ]
    },
    {
      "cell_type": "code",
      "metadata": {
        "colab": {
          "base_uri": "https://localhost:8080/"
        },
        "id": "cREK5V7J_trL",
        "outputId": "c2a4b41a-674f-40eb-efc9-fdc3f93e672c"
      },
      "source": [
        "recovered_cases.mean().sort_values(ascending = False)[:6]"
      ],
      "execution_count": null,
      "outputs": [
        {
          "output_type": "execute_result",
          "data": {
            "text/plain": [
              "India            110848.064327\n",
              "Maharashtra       22753.865497\n",
              "Kerala            11169.570588\n",
              "Karnataka         10231.690058\n",
              "Tamil nadu         8915.421053\n",
              "Uttar pradesh      6521.356725\n",
              "dtype: float64"
            ]
          },
          "metadata": {
            "tags": []
          },
          "execution_count": 83
        }
      ]
    },
    {
      "cell_type": "code",
      "metadata": {
        "colab": {
          "base_uri": "https://localhost:8080/",
          "height": 297
        },
        "id": "FkfixkaNCa65",
        "outputId": "4dcb0835-11a2-4fb0-eac2-22b535611ed1"
      },
      "source": [
        "maharashtra_cases = pd.DataFrame([ confirmed_cases['Maharashtra'].rename('confirmed_cases') ,recovered_cases['Maharashtra'].rename('recovered_cases') ]).T\n",
        "maharashtra_cases.describe()"
      ],
      "execution_count": null,
      "outputs": [
        {
          "output_type": "execute_result",
          "data": {
            "text/html": [
              "<div>\n",
              "<style scoped>\n",
              "    .dataframe tbody tr th:only-of-type {\n",
              "        vertical-align: middle;\n",
              "    }\n",
              "\n",
              "    .dataframe tbody tr th {\n",
              "        vertical-align: top;\n",
              "    }\n",
              "\n",
              "    .dataframe thead th {\n",
              "        text-align: right;\n",
              "    }\n",
              "</style>\n",
              "<table border=\"1\" class=\"dataframe\">\n",
              "  <thead>\n",
              "    <tr style=\"text-align: right;\">\n",
              "      <th></th>\n",
              "      <th>confirmed_cases</th>\n",
              "      <th>recovered_cases</th>\n",
              "    </tr>\n",
              "  </thead>\n",
              "  <tbody>\n",
              "    <tr>\n",
              "      <th>count</th>\n",
              "      <td>171.000000</td>\n",
              "      <td>171.000000</td>\n",
              "    </tr>\n",
              "    <tr>\n",
              "      <th>mean</th>\n",
              "      <td>23629.643275</td>\n",
              "      <td>22753.865497</td>\n",
              "    </tr>\n",
              "    <tr>\n",
              "      <th>std</th>\n",
              "      <td>21985.216598</td>\n",
              "      <td>22235.294911</td>\n",
              "    </tr>\n",
              "    <tr>\n",
              "      <th>min</th>\n",
              "      <td>652.000000</td>\n",
              "      <td>1355.000000</td>\n",
              "    </tr>\n",
              "    <tr>\n",
              "      <th>25%</th>\n",
              "      <td>3711.000000</td>\n",
              "      <td>3748.500000</td>\n",
              "    </tr>\n",
              "    <tr>\n",
              "      <th>50%</th>\n",
              "      <td>14123.000000</td>\n",
              "      <td>13165.000000</td>\n",
              "    </tr>\n",
              "    <tr>\n",
              "      <th>75%</th>\n",
              "      <td>40168.500000</td>\n",
              "      <td>37603.500000</td>\n",
              "    </tr>\n",
              "    <tr>\n",
              "      <th>max</th>\n",
              "      <td>68631.000000</td>\n",
              "      <td>82266.000000</td>\n",
              "    </tr>\n",
              "  </tbody>\n",
              "</table>\n",
              "</div>"
            ],
            "text/plain": [
              "       confirmed_cases  recovered_cases\n",
              "count       171.000000       171.000000\n",
              "mean      23629.643275     22753.865497\n",
              "std       21985.216598     22235.294911\n",
              "min         652.000000      1355.000000\n",
              "25%        3711.000000      3748.500000\n",
              "50%       14123.000000     13165.000000\n",
              "75%       40168.500000     37603.500000\n",
              "max       68631.000000     82266.000000"
            ]
          },
          "metadata": {
            "tags": []
          },
          "execution_count": 84
        }
      ]
    },
    {
      "cell_type": "code",
      "metadata": {
        "id": "lJjwPPdbCazU"
      },
      "source": [
        "#similarly for other states\n",
        "kerala_cases = pd.DataFrame([ confirmed_cases['Kerala'].rename('confirmed_cases') ,recovered_cases['Kerala'].rename('recovered_cases') ]).T\n",
        "karnataka_cases = pd.DataFrame([ confirmed_cases['Karnataka'].rename('confirmed_cases') ,recovered_cases['Karnataka'].rename('recovered_cases') ]).T\n",
        "tamil_nadu_cases = pd.DataFrame([ confirmed_cases['Tamil nadu'].rename('confirmed_cases') ,recovered_cases['Tamil nadu'].rename('recovered_cases') ]).T\n",
        "uttar_pradesh_cases = pd.DataFrame([ confirmed_cases['Uttar pradesh'].rename('confirmed_cases') ,recovered_cases['Uttar pradesh'].rename('recovered_cases') ]).T\n",
        "\n",
        "all_cases = pd.DataFrame([ confirmed_cases['India'].rename('confirmed_cases') ,recovered_cases['India'].rename('recovered_cases') ]).T"
      ],
      "execution_count": null,
      "outputs": []
    },
    {
      "cell_type": "code",
      "metadata": {
        "colab": {
          "base_uri": "https://localhost:8080/",
          "height": 279
        },
        "id": "SH-iD6Srmoj3",
        "outputId": "47bc2aba-2025-4b8c-96d9-b1a35622dfc2"
      },
      "source": [
        "maharashtra_cases.plot();"
      ],
      "execution_count": null,
      "outputs": [
        {
          "output_type": "display_data",
          "data": {
            "image/png": "[encoded data removed]",
            "text/plain": [
              "<Figure size 432x288 with 1 Axes>"
            ]
          },
          "metadata": {
            "tags": []
          }
        }
      ]
    },
    {
      "cell_type": "code",
      "metadata": {
        "colab": {
          "base_uri": "https://localhost:8080/",
          "height": 448
        },
        "id": "WjArWfN4CS_G",
        "outputId": "d5227765-9434-4bde-df86-4a2984b79a0b"
      },
      "source": [
        "sns.jointplot(data=maharashtra_cases, x=\"confirmed_cases\", y=\"recovered_cases\", kind=\"kde\", cut = 0, fill = True,\n",
        "              xlim = (0, maharashtra_cases['confirmed_cases'].max()), ylim = (0, maharashtra_cases['recovered_cases'].max()) );"
      ],
      "execution_count": null,
      "outputs": [
        {
          "output_type": "display_data",
          "data": {
            "image/png": "[encoded data removed]",
            "text/plain": [
              "<Figure size 432x432 with 3 Axes>"
            ]
          },
          "metadata": {
            "tags": []
          }
        }
      ]
    },
    {
      "cell_type": "code",
      "metadata": {
        "colab": {
          "base_uri": "https://localhost:8080/",
          "height": 268
        },
        "id": "5BYV7WBJnH9e",
        "outputId": "321a01c1-7908-46d7-b683-5e66152e2c36"
      },
      "source": [
        "confirmed_cases['Maharashtra'].plot(kind = 'hist');"
      ],
      "execution_count": null,
      "outputs": [
        {
          "output_type": "display_data",
          "data": {
            "image/png": "[encoded data removed]",
            "text/plain": [
              "<Figure size 432x288 with 1 Axes>"
            ]
          },
          "metadata": {
            "tags": []
          }
        }
      ]
    },
    {
      "cell_type": "code",
      "metadata": {
        "colab": {
          "base_uri": "https://localhost:8080/",
          "height": 269
        },
        "id": "n3ui_Ggx_tBD",
        "outputId": "28340b61-3695-4340-9c2b-6d5a5117abc5"
      },
      "source": [
        "sns.set_theme(style=\"whitegrid\")\n",
        "sns.violinplot(data = maharashtra_cases, cut = 0);"
      ],
      "execution_count": null,
      "outputs": [
        {
          "output_type": "display_data",
          "data": {
            "image/png": "[encoded data removed]",
            "text/plain": [
              "<Figure size 432x288 with 1 Axes>"
            ]
          },
          "metadata": {
            "tags": []
          }
        }
      ]
    },
    {
      "cell_type": "code",
      "metadata": {
        "id": "AeX_MNUevI0z"
      },
      "source": [
        "def make_df(state_df, state_name):\n",
        "  new_df = pd.DataFrame(state_df['confirmed_cases'].rename('no_of_cases'))\n",
        "  new_df['type:'] = 'confirmed_cases'\n",
        "  new_df2 = pd.DataFrame(state_df['recovered_cases'].rename('no_of_cases'))\n",
        "  new_df2['type:'] = 'recovered_cases'\n",
        "  df = pd.concat([new_df, new_df2])\n",
        "  df['state'] = state_name\n",
        "  return df\n",
        "#reorganizing df by adding extra columns to use split violinplots"
      ],
      "execution_count": null,
      "outputs": []
    },
    {
      "cell_type": "code",
      "metadata": {
        "id": "iQONjkZMkSnY"
      },
      "source": [
        "main_df = pd.concat([make_df(maharashtra_cases, 'Maharashtra'), make_df(kerala_cases, 'Kerala')] )#add all states Mrunal"
      ],
      "execution_count": null,
      "outputs": []
    },
    {
      "cell_type": "code",
      "metadata": {
        "id": "9X8MRSn-vJVl",
        "colab": {
          "base_uri": "https://localhost:8080/",
          "height": 295
        },
        "outputId": "29a6066a-3e69-4073-baae-c9dc0d341550"
      },
      "source": [
        "sns.violinplot(data = main_df,x = 'state', y = 'no_of_cases', hue = 'type:', split = True, cut = 0)\n",
        "sns.despine(offset=10, trim=True);"
      ],
      "execution_count": null,
      "outputs": [
        {
          "output_type": "display_data",
          "data": {
            "image/png": "[encoded data removed]",
            "text/plain": [
              "<Figure size 432x288 with 1 Axes>"
            ]
          },
          "metadata": {
            "tags": []
          }
        }
      ]
    },
    {
      "cell_type": "code",
      "metadata": {
        "id": "66Q1ITxabS4N"
      },
      "source": [
        "# sampling functions\n",
        "def s1(n,state_data,fromdate,todate):     #returns a single sample of n random values from state_data in the given data range\n",
        "    sample=state_data[fromdate:todate].sample(n=n,replace=True)\n",
        "    return sample"
      ],
      "execution_count": null,
      "outputs": []
    },
    {
      "cell_type": "code",
      "metadata": {
        "id": "FPTwNlXkbV1u"
      },
      "source": [
        "def sampled_data(n_samples, n,state_data,fromdate,todate):       #returns sample parameters for n_samples samples\n",
        "    mean_confirmed=np.zeros(n_samples)\n",
        "    mean_recovered=np.zeros(n_samples)\n",
        "    std_confirmed=np.zeros(n_samples)\n",
        "    std_recovered=np.zeros(n_samples)\n",
        "    for i in range(n_samples):\n",
        "        df=s1(n,state_data,fromdate,todate)\n",
        "        mean_confirmed[i]=df[\"confirmed_cases\"].mean(skipna=True)\n",
        "        std_confirmed[i]=np.std(df[\"confirmed_cases\"])\n",
        "        mean_recovered[i]=df[\"recovered_cases\"].mean(skipna=True)\n",
        "        std_recovered[i]=(np.std(df[\"recovered_cases\"]))\n",
        "    return mean_confirmed,std_confirmed,mean_recovered,std_recovered    \n",
        "        "
      ],
      "execution_count": null,
      "outputs": []
    },
    {
      "cell_type": "code",
      "metadata": {
        "colab": {
          "base_uri": "https://localhost:8080/"
        },
        "id": "dXk16BLXlaOe",
        "outputId": "df7a8764-7158-4221-da11-d1b0dadea69f"
      },
      "source": [
        "a, b, c, d = sampled_data(1000, 20, maharashtra_cases, fromdate, todate)\n",
        "np.mean(a)"
      ],
      "execution_count": null,
      "outputs": [
        {
          "output_type": "execute_result",
          "data": {
            "text/plain": [
              "23656.5892"
            ]
          },
          "metadata": {
            "tags": []
          },
          "execution_count": 113
        }
      ]
    },
    {
      "cell_type": "code",
      "metadata": {
        "id": "QuhTCQtylN39"
      },
      "source": [
        "#add point 6 here\n"
      ],
      "execution_count": null,
      "outputs": []
    },
    {
      "cell_type": "code",
      "metadata": {
        "id": "BBrn0OaqlN0P"
      },
      "source": [
        ""
      ],
      "execution_count": null,
      "outputs": []
    },
    {
      "cell_type": "code",
      "metadata": {
        "id": "1Xlq4zpDlNwJ"
      },
      "source": [
        ""
      ],
      "execution_count": null,
      "outputs": []
    },
    {
      "cell_type": "code",
      "metadata": {
        "id": "iHEsNXbhlNr1"
      },
      "source": [
        ""
      ],
      "execution_count": null,
      "outputs": []
    },
    {
      "cell_type": "markdown",
      "metadata": {
        "id": "g0lcV021lR7c"
      },
      "source": [
        "this is for point 9"
      ]
    },
    {
      "cell_type": "code",
      "metadata": {
        "colab": {
          "base_uri": "https://localhost:8080/",
          "height": 313
        },
        "id": "2yNNeqARAxII",
        "outputId": "b7811fcd-dc8c-4374-cb4c-39e6ad73c248"
      },
      "source": [
        "df = maharashtra_cases.reset_index()\n",
        "df['confirmed_cases'] = np.log(df['confirmed_cases'])\n",
        "#del df['index']\n",
        "coef = np.polyfit(x = df.index, y = df['confirmed_cases'], deg = 3)\n",
        "df.insert(3, 'confirmed_cases_reg', np.poly1d(coef)(df.index) )\n",
        "g = df.plot(x = 'index', y = 'confirmed_cases' )\n",
        "df.plot(x = 'index', y = 'confirmed_cases_reg' ,color='Red',ax=g)\n",
        "#plt.plot(df.index, np.poly1d(coef)(df.index) )\n",
        "#np.log(maharashtra_cases).plot()"
      ],
      "execution_count": null,
      "outputs": [
        {
          "output_type": "execute_result",
          "data": {
            "text/plain": [
              "<matplotlib.axes._subplots.AxesSubplot at 0x7f37d863ab90>"
            ]
          },
          "metadata": {
            "tags": []
          },
          "execution_count": 142
        },
        {
          "output_type": "display_data",
          "data": {
            "image/png": "[encoded data removed]",
            "text/plain": [
              "<Figure size 432x288 with 1 Axes>"
            ]
          },
          "metadata": {
            "tags": []
          }
        }
      ]
    },
    {
      "cell_type": "code",
      "metadata": {
        "id": "-mmUuBsOrJ2l"
      },
      "source": [
        "np.polyfit?"
      ],
      "execution_count": null,
      "outputs": []
    },
    {
      "cell_type": "code",
      "metadata": {
        "colab": {
          "base_uri": "https://localhost:8080/",
          "height": 340
        },
        "id": "jc42BknzcVBN",
        "outputId": "37aad05a-6384-431c-c72b-f9e95874cba8"
      },
      "source": [
        "df['confirmed_cases'] = np.log(df['confirmed_cases'])\n",
        "df['index'] = dates.datestr2num(df['index'])\n",
        "sns.lmplot(x = 'index', y =  'confirmed_cases', data = df, order = 2)"
      ],
      "execution_count": null,
      "outputs": [
        {
          "output_type": "error",
          "ename": "TypeError",
          "evalue": "ignored",
          "traceback": [
            "\u001b[0;31m---------------------------------------------------------------------------\u001b[0m",
            "\u001b[0;31mTypeError\u001b[0m                                 Traceback (most recent call last)",
            "\u001b[0;32m<ipython-input-127-cd30c2c7d599>\u001b[0m in \u001b[0;36m<module>\u001b[0;34m()\u001b[0m\n\u001b[1;32m      1\u001b[0m \u001b[0mdf\u001b[0m\u001b[0;34m[\u001b[0m\u001b[0;34m'confirmed_cases'\u001b[0m\u001b[0;34m]\u001b[0m \u001b[0;34m=\u001b[0m \u001b[0mnp\u001b[0m\u001b[0;34m.\u001b[0m\u001b[0mlog\u001b[0m\u001b[0;34m(\u001b[0m\u001b[0mdf\u001b[0m\u001b[0;34m[\u001b[0m\u001b[0;34m'confirmed_cases'\u001b[0m\u001b[0;34m]\u001b[0m\u001b[0;34m)\u001b[0m\u001b[0;34m\u001b[0m\u001b[0;34m\u001b[0m\u001b[0m\n\u001b[0;32m----> 2\u001b[0;31m \u001b[0mdf\u001b[0m\u001b[0;34m[\u001b[0m\u001b[0;34m'index'\u001b[0m\u001b[0;34m]\u001b[0m \u001b[0;34m=\u001b[0m \u001b[0mdates\u001b[0m\u001b[0;34m.\u001b[0m\u001b[0mdatestr2num\u001b[0m\u001b[0;34m(\u001b[0m\u001b[0mdf\u001b[0m\u001b[0;34m[\u001b[0m\u001b[0;34m'index'\u001b[0m\u001b[0;34m]\u001b[0m\u001b[0;34m)\u001b[0m\u001b[0;34m\u001b[0m\u001b[0;34m\u001b[0m\u001b[0m\n\u001b[0m\u001b[1;32m      3\u001b[0m \u001b[0msns\u001b[0m\u001b[0;34m.\u001b[0m\u001b[0mlmplot\u001b[0m\u001b[0;34m(\u001b[0m\u001b[0mx\u001b[0m \u001b[0;34m=\u001b[0m \u001b[0;34m'index'\u001b[0m\u001b[0;34m,\u001b[0m \u001b[0my\u001b[0m \u001b[0;34m=\u001b[0m  \u001b[0;34m'confirmed_cases'\u001b[0m\u001b[0;34m,\u001b[0m \u001b[0mdata\u001b[0m \u001b[0;34m=\u001b[0m \u001b[0mdf\u001b[0m\u001b[0;34m,\u001b[0m \u001b[0morder\u001b[0m \u001b[0;34m=\u001b[0m \u001b[0;36m2\u001b[0m\u001b[0;34m)\u001b[0m\u001b[0;34m\u001b[0m\u001b[0;34m\u001b[0m\u001b[0m\n",
            "\u001b[0;32m/usr/local/lib/python3.7/dist-packages/matplotlib/dates.py\u001b[0m in \u001b[0;36mdatestr2num\u001b[0;34m(d, default)\u001b[0m\n\u001b[1;32m    396\u001b[0m         \u001b[0;32mif\u001b[0m \u001b[0;32mnot\u001b[0m \u001b[0md\u001b[0m\u001b[0;34m.\u001b[0m\u001b[0msize\u001b[0m\u001b[0;34m:\u001b[0m\u001b[0;34m\u001b[0m\u001b[0;34m\u001b[0m\u001b[0m\n\u001b[1;32m    397\u001b[0m             \u001b[0;32mreturn\u001b[0m \u001b[0md\u001b[0m\u001b[0;34m\u001b[0m\u001b[0;34m\u001b[0m\u001b[0m\n\u001b[0;32m--> 398\u001b[0;31m         \u001b[0;32mreturn\u001b[0m \u001b[0mdate2num\u001b[0m\u001b[0;34m(\u001b[0m\u001b[0m_dateutil_parser_parse_np_vectorized\u001b[0m\u001b[0;34m(\u001b[0m\u001b[0md\u001b[0m\u001b[0;34m)\u001b[0m\u001b[0;34m)\u001b[0m\u001b[0;34m\u001b[0m\u001b[0;34m\u001b[0m\u001b[0m\n\u001b[0m\u001b[1;32m    399\u001b[0m \u001b[0;34m\u001b[0m\u001b[0m\n\u001b[1;32m    400\u001b[0m \u001b[0;34m\u001b[0m\u001b[0m\n",
            "\u001b[0;32m/usr/local/lib/python3.7/dist-packages/numpy/lib/function_base.py\u001b[0m in \u001b[0;36m__call__\u001b[0;34m(self, *args, **kwargs)\u001b[0m\n\u001b[1;32m   2106\u001b[0m             \u001b[0mvargs\u001b[0m\u001b[0;34m.\u001b[0m\u001b[0mextend\u001b[0m\u001b[0;34m(\u001b[0m\u001b[0;34m[\u001b[0m\u001b[0mkwargs\u001b[0m\u001b[0;34m[\u001b[0m\u001b[0m_n\u001b[0m\u001b[0;34m]\u001b[0m \u001b[0;32mfor\u001b[0m \u001b[0m_n\u001b[0m \u001b[0;32min\u001b[0m \u001b[0mnames\u001b[0m\u001b[0;34m]\u001b[0m\u001b[0;34m)\u001b[0m\u001b[0;34m\u001b[0m\u001b[0;34m\u001b[0m\u001b[0m\n\u001b[1;32m   2107\u001b[0m \u001b[0;34m\u001b[0m\u001b[0m\n\u001b[0;32m-> 2108\u001b[0;31m         \u001b[0;32mreturn\u001b[0m \u001b[0mself\u001b[0m\u001b[0;34m.\u001b[0m\u001b[0m_vectorize_call\u001b[0m\u001b[0;34m(\u001b[0m\u001b[0mfunc\u001b[0m\u001b[0;34m=\u001b[0m\u001b[0mfunc\u001b[0m\u001b[0;34m,\u001b[0m \u001b[0margs\u001b[0m\u001b[0;34m=\u001b[0m\u001b[0mvargs\u001b[0m\u001b[0;34m)\u001b[0m\u001b[0;34m\u001b[0m\u001b[0;34m\u001b[0m\u001b[0m\n\u001b[0m\u001b[1;32m   2109\u001b[0m \u001b[0;34m\u001b[0m\u001b[0m\n\u001b[1;32m   2110\u001b[0m     \u001b[0;32mdef\u001b[0m \u001b[0m_get_ufunc_and_otypes\u001b[0m\u001b[0;34m(\u001b[0m\u001b[0mself\u001b[0m\u001b[0;34m,\u001b[0m \u001b[0mfunc\u001b[0m\u001b[0;34m,\u001b[0m \u001b[0margs\u001b[0m\u001b[0;34m)\u001b[0m\u001b[0;34m:\u001b[0m\u001b[0;34m\u001b[0m\u001b[0;34m\u001b[0m\u001b[0m\n",
            "\u001b[0;32m/usr/local/lib/python3.7/dist-packages/numpy/lib/function_base.py\u001b[0m in \u001b[0;36m_vectorize_call\u001b[0;34m(self, func, args)\u001b[0m\n\u001b[1;32m   2184\u001b[0m             \u001b[0mres\u001b[0m \u001b[0;34m=\u001b[0m \u001b[0mfunc\u001b[0m\u001b[0;34m(\u001b[0m\u001b[0;34m)\u001b[0m\u001b[0;34m\u001b[0m\u001b[0;34m\u001b[0m\u001b[0m\n\u001b[1;32m   2185\u001b[0m         \u001b[0;32melse\u001b[0m\u001b[0;34m:\u001b[0m\u001b[0;34m\u001b[0m\u001b[0;34m\u001b[0m\u001b[0m\n\u001b[0;32m-> 2186\u001b[0;31m             \u001b[0mufunc\u001b[0m\u001b[0;34m,\u001b[0m \u001b[0motypes\u001b[0m \u001b[0;34m=\u001b[0m \u001b[0mself\u001b[0m\u001b[0;34m.\u001b[0m\u001b[0m_get_ufunc_and_otypes\u001b[0m\u001b[0;34m(\u001b[0m\u001b[0mfunc\u001b[0m\u001b[0;34m=\u001b[0m\u001b[0mfunc\u001b[0m\u001b[0;34m,\u001b[0m \u001b[0margs\u001b[0m\u001b[0;34m=\u001b[0m\u001b[0margs\u001b[0m\u001b[0;34m)\u001b[0m\u001b[0;34m\u001b[0m\u001b[0;34m\u001b[0m\u001b[0m\n\u001b[0m\u001b[1;32m   2187\u001b[0m \u001b[0;34m\u001b[0m\u001b[0m\n\u001b[1;32m   2188\u001b[0m             \u001b[0;31m# Convert args to object arrays first\u001b[0m\u001b[0;34m\u001b[0m\u001b[0;34m\u001b[0m\u001b[0;34m\u001b[0m\u001b[0m\n",
            "\u001b[0;32m/usr/local/lib/python3.7/dist-packages/numpy/lib/function_base.py\u001b[0m in \u001b[0;36m_get_ufunc_and_otypes\u001b[0;34m(self, func, args)\u001b[0m\n\u001b[1;32m   2144\u001b[0m \u001b[0;34m\u001b[0m\u001b[0m\n\u001b[1;32m   2145\u001b[0m             \u001b[0minputs\u001b[0m \u001b[0;34m=\u001b[0m \u001b[0;34m[\u001b[0m\u001b[0marg\u001b[0m\u001b[0;34m.\u001b[0m\u001b[0mflat\u001b[0m\u001b[0;34m[\u001b[0m\u001b[0;36m0\u001b[0m\u001b[0;34m]\u001b[0m \u001b[0;32mfor\u001b[0m \u001b[0marg\u001b[0m \u001b[0;32min\u001b[0m \u001b[0margs\u001b[0m\u001b[0;34m]\u001b[0m\u001b[0;34m\u001b[0m\u001b[0;34m\u001b[0m\u001b[0m\n\u001b[0;32m-> 2146\u001b[0;31m             \u001b[0moutputs\u001b[0m \u001b[0;34m=\u001b[0m \u001b[0mfunc\u001b[0m\u001b[0;34m(\u001b[0m\u001b[0;34m*\u001b[0m\u001b[0minputs\u001b[0m\u001b[0;34m)\u001b[0m\u001b[0;34m\u001b[0m\u001b[0;34m\u001b[0m\u001b[0m\n\u001b[0m\u001b[1;32m   2147\u001b[0m \u001b[0;34m\u001b[0m\u001b[0m\n\u001b[1;32m   2148\u001b[0m             \u001b[0;31m# Performance note: profiling indicates that -- for simple\u001b[0m\u001b[0;34m\u001b[0m\u001b[0;34m\u001b[0m\u001b[0;34m\u001b[0m\u001b[0m\n",
            "\u001b[0;32m/usr/local/lib/python3.7/dist-packages/dateutil/parser/_parser.py\u001b[0m in \u001b[0;36mparse\u001b[0;34m(timestr, parserinfo, **kwargs)\u001b[0m\n\u001b[1;32m   1372\u001b[0m         \u001b[0;32mreturn\u001b[0m \u001b[0mparser\u001b[0m\u001b[0;34m(\u001b[0m\u001b[0mparserinfo\u001b[0m\u001b[0;34m)\u001b[0m\u001b[0;34m.\u001b[0m\u001b[0mparse\u001b[0m\u001b[0;34m(\u001b[0m\u001b[0mtimestr\u001b[0m\u001b[0;34m,\u001b[0m \u001b[0;34m**\u001b[0m\u001b[0mkwargs\u001b[0m\u001b[0;34m)\u001b[0m\u001b[0;34m\u001b[0m\u001b[0;34m\u001b[0m\u001b[0m\n\u001b[1;32m   1373\u001b[0m     \u001b[0;32melse\u001b[0m\u001b[0;34m:\u001b[0m\u001b[0;34m\u001b[0m\u001b[0;34m\u001b[0m\u001b[0m\n\u001b[0;32m-> 1374\u001b[0;31m         \u001b[0;32mreturn\u001b[0m \u001b[0mDEFAULTPARSER\u001b[0m\u001b[0;34m.\u001b[0m\u001b[0mparse\u001b[0m\u001b[0;34m(\u001b[0m\u001b[0mtimestr\u001b[0m\u001b[0;34m,\u001b[0m \u001b[0;34m**\u001b[0m\u001b[0mkwargs\u001b[0m\u001b[0;34m)\u001b[0m\u001b[0;34m\u001b[0m\u001b[0;34m\u001b[0m\u001b[0m\n\u001b[0m\u001b[1;32m   1375\u001b[0m \u001b[0;34m\u001b[0m\u001b[0m\n\u001b[1;32m   1376\u001b[0m \u001b[0;34m\u001b[0m\u001b[0m\n",
            "\u001b[0;32m/usr/local/lib/python3.7/dist-packages/dateutil/parser/_parser.py\u001b[0m in \u001b[0;36mparse\u001b[0;34m(self, timestr, default, ignoretz, tzinfos, **kwargs)\u001b[0m\n\u001b[1;32m    644\u001b[0m                                                       second=0, microsecond=0)\n\u001b[1;32m    645\u001b[0m \u001b[0;34m\u001b[0m\u001b[0m\n\u001b[0;32m--> 646\u001b[0;31m         \u001b[0mres\u001b[0m\u001b[0;34m,\u001b[0m \u001b[0mskipped_tokens\u001b[0m \u001b[0;34m=\u001b[0m \u001b[0mself\u001b[0m\u001b[0;34m.\u001b[0m\u001b[0m_parse\u001b[0m\u001b[0;34m(\u001b[0m\u001b[0mtimestr\u001b[0m\u001b[0;34m,\u001b[0m \u001b[0;34m**\u001b[0m\u001b[0mkwargs\u001b[0m\u001b[0;34m)\u001b[0m\u001b[0;34m\u001b[0m\u001b[0;34m\u001b[0m\u001b[0m\n\u001b[0m\u001b[1;32m    647\u001b[0m \u001b[0;34m\u001b[0m\u001b[0m\n\u001b[1;32m    648\u001b[0m         \u001b[0;32mif\u001b[0m \u001b[0mres\u001b[0m \u001b[0;32mis\u001b[0m \u001b[0;32mNone\u001b[0m\u001b[0;34m:\u001b[0m\u001b[0;34m\u001b[0m\u001b[0;34m\u001b[0m\u001b[0m\n",
            "\u001b[0;32m/usr/local/lib/python3.7/dist-packages/dateutil/parser/_parser.py\u001b[0m in \u001b[0;36m_parse\u001b[0;34m(self, timestr, dayfirst, yearfirst, fuzzy, fuzzy_with_tokens)\u001b[0m\n\u001b[1;32m    723\u001b[0m \u001b[0;34m\u001b[0m\u001b[0m\n\u001b[1;32m    724\u001b[0m         \u001b[0mres\u001b[0m \u001b[0;34m=\u001b[0m \u001b[0mself\u001b[0m\u001b[0;34m.\u001b[0m\u001b[0m_result\u001b[0m\u001b[0;34m(\u001b[0m\u001b[0;34m)\u001b[0m\u001b[0;34m\u001b[0m\u001b[0;34m\u001b[0m\u001b[0m\n\u001b[0;32m--> 725\u001b[0;31m         \u001b[0ml\u001b[0m \u001b[0;34m=\u001b[0m \u001b[0m_timelex\u001b[0m\u001b[0;34m.\u001b[0m\u001b[0msplit\u001b[0m\u001b[0;34m(\u001b[0m\u001b[0mtimestr\u001b[0m\u001b[0;34m)\u001b[0m         \u001b[0;31m# Splits the timestr into tokens\u001b[0m\u001b[0;34m\u001b[0m\u001b[0;34m\u001b[0m\u001b[0m\n\u001b[0m\u001b[1;32m    726\u001b[0m \u001b[0;34m\u001b[0m\u001b[0m\n\u001b[1;32m    727\u001b[0m         \u001b[0mskipped_idxs\u001b[0m \u001b[0;34m=\u001b[0m \u001b[0;34m[\u001b[0m\u001b[0;34m]\u001b[0m\u001b[0;34m\u001b[0m\u001b[0;34m\u001b[0m\u001b[0m\n",
            "\u001b[0;32m/usr/local/lib/python3.7/dist-packages/dateutil/parser/_parser.py\u001b[0m in \u001b[0;36msplit\u001b[0;34m(cls, s)\u001b[0m\n\u001b[1;32m    205\u001b[0m     \u001b[0;34m@\u001b[0m\u001b[0mclassmethod\u001b[0m\u001b[0;34m\u001b[0m\u001b[0;34m\u001b[0m\u001b[0m\n\u001b[1;32m    206\u001b[0m     \u001b[0;32mdef\u001b[0m \u001b[0msplit\u001b[0m\u001b[0;34m(\u001b[0m\u001b[0mcls\u001b[0m\u001b[0;34m,\u001b[0m \u001b[0ms\u001b[0m\u001b[0;34m)\u001b[0m\u001b[0;34m:\u001b[0m\u001b[0;34m\u001b[0m\u001b[0;34m\u001b[0m\u001b[0m\n\u001b[0;32m--> 207\u001b[0;31m         \u001b[0;32mreturn\u001b[0m \u001b[0mlist\u001b[0m\u001b[0;34m(\u001b[0m\u001b[0mcls\u001b[0m\u001b[0;34m(\u001b[0m\u001b[0ms\u001b[0m\u001b[0;34m)\u001b[0m\u001b[0;34m)\u001b[0m\u001b[0;34m\u001b[0m\u001b[0;34m\u001b[0m\u001b[0m\n\u001b[0m\u001b[1;32m    208\u001b[0m \u001b[0;34m\u001b[0m\u001b[0m\n\u001b[1;32m    209\u001b[0m     \u001b[0;34m@\u001b[0m\u001b[0mclassmethod\u001b[0m\u001b[0;34m\u001b[0m\u001b[0;34m\u001b[0m\u001b[0m\n",
            "\u001b[0;32m/usr/local/lib/python3.7/dist-packages/dateutil/parser/_parser.py\u001b[0m in \u001b[0;36m__init__\u001b[0;34m(self, instream)\u001b[0m\n\u001b[1;32m     74\u001b[0m         \u001b[0;32melif\u001b[0m \u001b[0mgetattr\u001b[0m\u001b[0;34m(\u001b[0m\u001b[0minstream\u001b[0m\u001b[0;34m,\u001b[0m \u001b[0;34m'read'\u001b[0m\u001b[0;34m,\u001b[0m \u001b[0;32mNone\u001b[0m\u001b[0;34m)\u001b[0m \u001b[0;32mis\u001b[0m \u001b[0;32mNone\u001b[0m\u001b[0;34m:\u001b[0m\u001b[0;34m\u001b[0m\u001b[0;34m\u001b[0m\u001b[0m\n\u001b[1;32m     75\u001b[0m             raise TypeError('Parser must be a string or character stream, not '\n\u001b[0;32m---> 76\u001b[0;31m                             '{itype}'.format(itype=instream.__class__.__name__))\n\u001b[0m\u001b[1;32m     77\u001b[0m \u001b[0;34m\u001b[0m\u001b[0m\n\u001b[1;32m     78\u001b[0m         \u001b[0mself\u001b[0m\u001b[0;34m.\u001b[0m\u001b[0minstream\u001b[0m \u001b[0;34m=\u001b[0m \u001b[0minstream\u001b[0m\u001b[0;34m\u001b[0m\u001b[0;34m\u001b[0m\u001b[0m\n",
            "\u001b[0;31mTypeError\u001b[0m: Parser must be a string or character stream, not datetime64"
          ]
        }
      ]
    },
    {
      "cell_type": "code",
      "metadata": {
        "id": "3EUsIwWDpsx_"
      },
      "source": [
        "from matplotlib import pyplot, dates"
      ],
      "execution_count": null,
      "outputs": []
    },
    {
      "cell_type": "markdown",
      "metadata": {
        "id": "y1YObXMQI-x9"
      },
      "source": [
        "---"
      ]
    },
    {
      "cell_type": "code",
      "metadata": {
        "id": "1zISlrkgF9r2"
      },
      "source": [
        "Do not run these cells"
      ],
      "execution_count": null,
      "outputs": []
    },
    {
      "cell_type": "code",
      "metadata": {
        "id": "7zjx3BbXZC5z"
      },
      "source": [
        "url = 'https://api.covid19india.org/v4/min/data.min.json'\n",
        "rq = requests.get(url)\n",
        "data = rq.json()"
      ],
      "execution_count": null,
      "outputs": []
    },
    {
      "cell_type": "code",
      "metadata": {
        "id": "hlYRWZPiZ4fx"
      },
      "source": [
        "confirmed = ['confirmed']\n",
        "deceased = ['deceased']\n",
        "recovered = ['recovered']\n",
        "vaccinated = ['vaccinated']\n",
        "stats = [st_ut, confirmed, deceased, recovered, vaccinated]"
      ],
      "execution_count": null,
      "outputs": []
    },
    {
      "cell_type": "code",
      "metadata": {
        "id": "ev43HasTINRs"
      },
      "source": [
        "for i in data:\n",
        "  for j in stats[1:]:\n",
        "    try:\n",
        "      j.append(data[i]['delta'][j[0]])\n",
        "    except:\n",
        "      j.append(0)"
      ],
      "execution_count": null,
      "outputs": []
    },
    {
      "cell_type": "code",
      "metadata": {
        "id": "Nk71a0zUINHV"
      },
      "source": [
        "with open( str(date.today()) + '_total_stats.csv', 'w', newline='') as my_file:\n",
        "         writer = csv.writer(my_file)\n",
        "         writer.writerows(stats)\n",
        "with open( str(date.today()) + '_total_stats_format_2.csv', 'w', newline='') as my_file:\n",
        "         writer = csv.writer(my_file)\n",
        "         for i in range(len(st_ut)):\n",
        "          writer.writerow([stats[0][i], stats[1][i],stats[2][i],stats[3][i], stats[4][i]])"
      ],
      "execution_count": null,
      "outputs": []
    },
    {
      "cell_type": "code",
      "metadata": {
        "id": "6CP-knYfIM5b"
      },
      "source": [
        "#comfirmed for each state given two dates\n",
        "with open( 'from_' + fromdate + '_to_' + todate + '_total_stats.csv', 'w', newline='') as time_file:\n",
        "  writer = csv.writer(time_file)\n",
        "  for state in data2:\n",
        "    print(\"state :\", state)\n",
        "    for single_date in daterange(start_date, end_date):\n",
        "      try:\n",
        "        print( single_date.date(), data2[state]['dates'][str(single_date.date())]['delta']['confirmed'])\n",
        "      except:\n",
        "        print('error on ' + str(single_date.date()), \" in \",state)\n",
        "    print(\"\\n\")"
      ],
      "execution_count": null,
      "outputs": []
    },
    {
      "cell_type": "code",
      "metadata": {
        "id": "JNNezQHEbYXq"
      },
      "source": [
        ""
      ],
      "execution_count": null,
      "outputs": []
    }
  ]
}